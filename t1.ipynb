{
 "cells": [
  {
   "cell_type": "code",
   "execution_count": 11,
   "metadata": {},
   "outputs": [],
   "source": [
    "import os\n",
    "from sentinelsat import SentinelAPI\n",
    "from pathlib import Path\n",
    "import shutil"
   ]
  },
  {
   "cell_type": "code",
   "execution_count": 3,
   "metadata": {},
   "outputs": [],
   "source": [
    "api= SentinelAPI('username', 'password', 'https://scihub.copernicus.eu/dhus')"
   ]
  },
  {
   "cell_type": "code",
   "execution_count": 4,
   "metadata": {},
   "outputs": [],
   "source": [
    "ID= 'S2B_MSIL2A_20230104T085249_N0509_R107_T34NCF_20230104T115706'"
   ]
  },
  {
   "cell_type": "code",
   "execution_count": 5,
   "metadata": {},
   "outputs": [],
   "source": [
    "dl_loc = \"/Users/nikhildatta/Desktop/Evaluation/downloads\""
   ]
  },
  {
   "cell_type": "code",
   "execution_count": 24,
   "metadata": {},
   "outputs": [
    {
     "name": "stdout",
     "output_type": "stream",
     "text": [
      "Downloading image ID: S2B_MSIL2A_20230104T085249_N0509_R107_T34NCF_20230104T115706\n"
     ]
    },
    {
     "name": "stderr",
     "output_type": "stream",
     "text": [
      "Downloading products: 100%|██████████| 1/1 [00:01<00:00,  1.05s/product]\n"
     ]
    }
   ],
   "source": [
    "if ID is not None:\n",
    "    \n",
    "\n",
    "        try:\n",
    "            \n",
    "         \n",
    "            products = api.query(identifier=ID)\n",
    "            \n",
    "           \n",
    "            print(\"Downloading image ID: {}\".format(ID))\n",
    "            \n",
    "        \n",
    "            api.download_all(products,dl_loc)\n",
    "\n",
    "        except:\n",
    "\n",
    "         \n",
    "            print(\"Could not download Sentinel-2 image with ID {}.\".format(ID))"
   ]
  },
  {
   "cell_type": "markdown",
   "metadata": {},
   "source": [
    "10m file test"
   ]
  },
  {
   "cell_type": "code",
   "execution_count": 6,
   "metadata": {},
   "outputs": [
    {
     "name": "stdout",
     "output_type": "stream",
     "text": [
      "Files and directories in ' /Users/nikhildatta/Desktop/Evaluation/downloads/S2B_MSIL2A_20230104T085249_N0509_R107_T34NCF_20230104T115706.SAFE/GRANULE/L2A_T34NCF_A030449_20230104T090559/IMG_DATA/R10m ' :\n",
      "['T34NCF_20230104T085249_B02_10m.jp2', 'T34NCF_20230104T085249_B03_10m.jp2', 'T34NCF_20230104T085249_B08_10m.jp2', 'T34NCF_20230104T085249_AOT_10m.jp2', 'T34NCF_20230104T085249_B04_10m.jp2', 'T34NCF_20230104T085249_TCI_10m.jp2', 'T34NCF_20230104T085249_WVP_10m.jp2']\n"
     ]
    }
   ],
   "source": [
    "path_10m = \"/Users/nikhildatta/Desktop/Evaluation/downloads/S2B_MSIL2A_20230104T085249_N0509_R107_T34NCF_20230104T115706.SAFE/GRANULE/L2A_T34NCF_A030449_20230104T090559/IMG_DATA/R10m\"\n",
    "dir_list_10m = os.listdir(path_10m)\n",
    " \n",
    "print(\"Files and directories in '\", path_10m, \"' :\")\n",
    " \n",
    "# prints all files\n",
    "print(dir_list_10m)"
   ]
  },
  {
   "cell_type": "markdown",
   "metadata": {},
   "source": [
    "20m file test"
   ]
  },
  {
   "cell_type": "code",
   "execution_count": 7,
   "metadata": {},
   "outputs": [
    {
     "name": "stdout",
     "output_type": "stream",
     "text": [
      "Files and directories in ' /Users/nikhildatta/Desktop/Evaluation/downloads/S2B_MSIL2A_20230104T085249_N0509_R107_T34NCF_20230104T115706.SAFE/GRANULE/L2A_T34NCF_A030449_20230104T090559/IMG_DATA/R20m ' :\n",
      "['T34NCF_20230104T085249_SCL_20m.jp2', 'T34NCF_20230104T085249_B11_20m.jp2', 'T34NCF_20230104T085249_B01_20m.jp2', 'T34NCF_20230104T085249_B12_20m.jp2', 'T34NCF_20230104T085249_B02_20m.jp2', 'T34NCF_20230104T085249_B03_20m.jp2', 'T34NCF_20230104T085249_B06_20m.jp2', 'T34NCF_20230104T085249_WVP_20m.jp2', 'T34NCF_20230104T085249_TCI_20m.jp2', 'T34NCF_20230104T085249_B07_20m.jp2', 'T34NCF_20230104T085249_B8A_20m.jp2', 'T34NCF_20230104T085249_AOT_20m.jp2', 'T34NCF_20230104T085249_B05_20m.jp2', 'T34NCF_20230104T085249_B04_20m.jp2']\n"
     ]
    }
   ],
   "source": [
    "path_20m = \"/Users/nikhildatta/Desktop/Evaluation/downloads/S2B_MSIL2A_20230104T085249_N0509_R107_T34NCF_20230104T115706.SAFE/GRANULE/L2A_T34NCF_A030449_20230104T090559/IMG_DATA/R20m\"\n",
    "dir_list_20m = os.listdir(path_20m)\n",
    " \n",
    "print(\"Files and directories in '\", path_20m, \"' :\")\n",
    " \n",
    "# prints all files\n",
    "print(dir_list_20m)"
   ]
  },
  {
   "cell_type": "markdown",
   "metadata": {},
   "source": [
    "lets see how selction goes"
   ]
  },
  {
   "cell_type": "code",
   "execution_count": 54,
   "metadata": {},
   "outputs": [],
   "source": [
    "bands_10m = ['B02' , 'B03' , 'B04' , 'B08']\n",
    "select_10m = []\n",
    "bands_20m = ['B02' , 'B03' , 'B04' , 'B05' ,'B06' , 'B07' , 'B11' , 'B12' , 'B8A']\n",
    "select_20m = [] \n",
    "i=0"
   ]
  },
  {
   "cell_type": "markdown",
   "metadata": {},
   "source": [
    "test"
   ]
  },
  {
   "cell_type": "code",
   "execution_count": null,
   "metadata": {},
   "outputs": [],
   "source": [
    "for filename in os.listdir(\"downloads/S2B_MSIL2A_20230104T085249_N0509_R107_T34NCF_20230104T115706.SAFE/GRANULE/L2A_T34NCF_A030449_20230104T090559/IMG_DATA/R10m\"):\n",
    "    if filename.__contains__(bands_10m[i]): \n",
    "        select_10m.append(filename)\n",
    "        i+=1\n"
   ]
  },
  {
   "cell_type": "code",
   "execution_count": 52,
   "metadata": {},
   "outputs": [
    {
     "data": {
      "text/plain": [
       "['T34NCF_20230104T085249_B02_10m.jp2',\n",
       " 'T34NCF_20230104T085249_B03_10m.jp2',\n",
       " 'T34NCF_20230104T085249_B04_10m.jp2']"
      ]
     },
     "execution_count": 52,
     "metadata": {},
     "output_type": "execute_result"
    }
   ],
   "source": [
    "select_10m"
   ]
  },
  {
   "cell_type": "code",
   "execution_count": 49,
   "metadata": {},
   "outputs": [],
   "source": [
    "src = \"downloads/S2B_MSIL2A_20230104T085249_N0509_R107_T34NCF_20230104T115706.SAFE/GRANULE/L2A_T34NCF_A030449_20230104T090559/IMG_DATA/R10m\"\n",
    "dest = \"selected_10m\""
   ]
  },
  {
   "cell_type": "code",
   "execution_count": 44,
   "metadata": {},
   "outputs": [],
   "source": [
    "files=os.listdir(src)\n",
    "for fname in files:\n",
    "    if fname.__contains__(select_10m[i]):\n",
    "        shutil.copy2(os.path.join(src,fname), dest)\n",
    "        i=i+1"
   ]
  },
  {
   "attachments": {},
   "cell_type": "markdown",
   "metadata": {},
   "source": [
    "20m"
   ]
  },
  {
   "cell_type": "code",
   "execution_count": 46,
   "metadata": {},
   "outputs": [],
   "source": [
    "for filename in os.listdir(\"downloads/S2B_MSIL2A_20230104T085249_N0509_R107_T34NCF_20230104T115706.SAFE/GRANULE/L2A_T34NCF_A030449_20230104T090559/IMG_DATA/R20m\"):\n",
    "    if filename.__contains__(bands_20m[i]): \n",
    "        select_20m.append(filename)\n",
    "        i+=1\n"
   ]
  },
  {
   "cell_type": "code",
   "execution_count": 47,
   "metadata": {},
   "outputs": [
    {
     "data": {
      "text/plain": [
       "['T34NCF_20230104T085249_B05_20m.jp2']"
      ]
     },
     "execution_count": 47,
     "metadata": {},
     "output_type": "execute_result"
    }
   ],
   "source": [
    "select_20m"
   ]
  },
  {
   "cell_type": "code",
   "execution_count": 57,
   "metadata": {},
   "outputs": [],
   "source": [
    "src2 = \"downloads/S2B_MSIL2A_20230104T085249_N0509_R107_T34NCF_20230104T115706.SAFE/GRANULE/L2A_T34NCF_A030449_20230104T090559/IMG_DATA/R20m\"\n",
    "dest2 = \"selected_20m\"\n",
    "i=0"
   ]
  },
  {
   "cell_type": "code",
   "execution_count": null,
   "metadata": {},
   "outputs": [],
   "source": [
    "files=os.listdir(src2)\n",
    "for fname in files:\n",
    "    if fname.__contains__(select_20m[i]):\n",
    "        shutil.copy2(os.path.join(src2,fname), dest2)\n",
    "        i=i+1"
   ]
  }
 ],
 "metadata": {
  "kernelspec": {
   "display_name": "Python 3.10.6 64-bit",
   "language": "python",
   "name": "python3"
  },
  "language_info": {
   "codemirror_mode": {
    "name": "ipython",
    "version": 3
   },
   "file_extension": ".py",
   "mimetype": "text/x-python",
   "name": "python",
   "nbconvert_exporter": "python",
   "pygments_lexer": "ipython3",
   "version": "3.10.6"
  },
  "orig_nbformat": 4,
  "vscode": {
   "interpreter": {
    "hash": "aee8b7b246df8f9039afb4144a1f6fd8d2ca17a180786b69acc140d282b71a49"
   }
  }
 },
 "nbformat": 4,
 "nbformat_minor": 2
}
